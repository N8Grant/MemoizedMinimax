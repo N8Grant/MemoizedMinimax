{
 "cells": [
  {
   "cell_type": "code",
   "execution_count": 1,
   "metadata": {},
   "outputs": [],
   "source": [
    "state = {}\n",
    "\n",
    "def play(a ,p):\n",
    "    moves = possibleMoves(a)\n",
    "    if not moves:\n",
    "        if p:\n",
    "            return -1\n",
    "        else:\n",
    "            return 1\n",
    "    if p:\n",
    "        minNum = float(\"inf\")\n",
    "        for move in moves:\n",
    "            if move in state:\n",
    "                num = state[move]\n",
    "            else:\n",
    "                num = play(move,not p)\n",
    "            if num < minNum:\n",
    "                minNum = num\n",
    "                state[move] = num\n",
    "        return minNum\n",
    "    else:\n",
    "        maxNum = float(\"-inf\")\n",
    "        for move in moves:\n",
    "            if move in state:\n",
    "                num = -1 * state[move]\n",
    "            else:\n",
    "                num = play(move, not p)\n",
    "            if num > maxNum:\n",
    "                maxNum = num\n",
    "                state[move] = -1 *num\n",
    "        return maxNum\n",
    "    \n",
    "\n",
    "def playNoMem(a ,p):\n",
    "    moves = possibleMoves(a)\n",
    "    if not moves:\n",
    "        if p:\n",
    "            return -1\n",
    "        else:\n",
    "            return 1\n",
    "    if p:\n",
    "        minNum = float(\"inf\")\n",
    "        for move in moves:\n",
    "            num = playNoMem(move,not p)\n",
    "            if num < minNum:\n",
    "                minNum = num\n",
    "        return minNum\n",
    "    else:\n",
    "        maxNum = float(\"-inf\")\n",
    "        for move in moves:\n",
    "            num = playNoMem(move, not p)\n",
    "            if num > maxNum:\n",
    "                maxNum = num\n",
    "        return maxNum  \n",
    "\n",
    "def possibleMoves(a):\n",
    "    list = []\n",
    "    if a[0]-1 >= 0 and a[1]-1 >= 0 and a[2]-1 >= 0: \n",
    "        list.append((a[0]-1,a[1]-1,a[2]-1))\n",
    "    if a[0]-2 >= 0 and a[1]-2 >= 0: \n",
    "        list.append((a[0]-2,a[1]-2,a[2]))\n",
    "    if a[0]-2 >= 0 and a[2]-2 >= 0: \n",
    "        list.append((a[0]-2,a[1],a[2]-2))\n",
    "    if a[2]-2 >= 0 and a[1]-2 >= 0: \n",
    "        list.append((a[0],a[1]-2,a[2]-2))\n",
    "    if a[0]-3 >= 0: \n",
    "        list.append((a[0]-3,a[1],a[2]))\n",
    "    if a[1]-3 >= 0: \n",
    "        list.append((a[0],a[1]-3,a[2]))\n",
    "    if a[2]-3 >= 0:\n",
    "        list.append((a[0],a[1],a[2]-3))\n",
    "    return list\n"
   ]
  },
  {
   "cell_type": "code",
   "execution_count": 6,
   "metadata": {},
   "outputs": [],
   "source": [
    "import time\n",
    "import numpy as np\n",
    "\n",
    "mem =[]\n",
    "for n in range(1,13):\n",
    "    t1 = time.time()\n",
    "    play((n,n,n), True)\n",
    "    t2= time.time()\n",
    "    mem.append(t2-t1)\n",
    "    \n",
    "noMem =[]\n",
    "for n in range(1,13):\n",
    "    t3 = time.time()\n",
    "    playNoMem((n,n,n), True)\n",
    "    t4= time.time()\n",
    "    noMem.append(t4-t3)"
   ]
  },
  {
   "cell_type": "code",
   "execution_count": 8,
   "metadata": {},
   "outputs": [
    {
     "name": "stderr",
     "output_type": "stream",
     "text": [
      "/Users/Nathan/Library/Python/3.5/lib/python/site-packages/matplotlib/pyplot.py:3363: RuntimeWarning: Second argument 'y1' is ambiguous: could be a color spec but is in data; using as data.  Either rename the entry in data or use three arguments to plot.\n",
      "  ret = ax.plot(*args, **kwargs)\n",
      "/Users/Nathan/Library/Python/3.5/lib/python/site-packages/matplotlib/pyplot.py:3363: RuntimeWarning: Second argument 'y2' is ambiguous: could be a color spec but is in data; using as data.  Either rename the entry in data or use three arguments to plot.\n",
      "  ret = ax.plot(*args, **kwargs)\n"
     ]
    },
    {
     "data": {
      "text/plain": [
       "<matplotlib.legend.Legend at 0x115280e48>"
      ]
     },
     "execution_count": 8,
     "metadata": {},
     "output_type": "execute_result"
    },
    {
     "data": {
      "image/png": "[encoded data removed]",
      "text/plain": [
       "<Figure size 432x288 with 1 Axes>"
      ]
     },
     "metadata": {
      "needs_background": "light"
     },
     "output_type": "display_data"
    }
   ],
   "source": [
    "import matplotlib.pyplot as plt\n",
    "import pandas as pd\n",
    "\n",
    "df=pd.DataFrame({'x': range(1,13), 'y1': np.asarray(mem), 'y2': np.asarray(noMem)}) # , 'y2': np.asarray(x3)\n",
    "\n",
    "plt.plot('x', 'y1', data=df, marker='', markersize=12, color='skyblue', linewidth=4)\n",
    "plt.plot( 'x', 'y2', data=df, marker='', color='olive', linewidth=2)\n",
    "plt.legend()\n"
   ]
  },
  {
   "cell_type": "code",
   "execution_count": null,
   "metadata": {},
   "outputs": [],
   "source": []
  }
 ],
 "metadata": {
  "kernelspec": {
   "display_name": "Python 3",
   "language": "python",
   "name": "python3"
  },
  "language_info": {
   "codemirror_mode": {
    "name": "ipython",
    "version": 3
   },
   "file_extension": ".py",
   "mimetype": "text/x-python",
   "name": "python",
   "nbconvert_exporter": "python",
   "pygments_lexer": "ipython3",
   "version": "3.5.4"
  }
 },
 "nbformat": 4,
 "nbformat_minor": 2
}
